{
 "cells": [
  {
   "cell_type": "markdown",
   "metadata": {},
   "source": [
    "# Build a TB model for hBN"
   ]
  },
  {
   "cell_type": "code",
   "execution_count": 1,
   "metadata": {},
   "outputs": [],
   "source": [
    "from pythtb import tb_model\n",
    "import numpy as np\n",
    "import matplotlib.pyplot as plt\n",
    "\n",
    "# Define lattice vectors for a 2D hexagonal lattice\n",
    "lat = [[1.0, 0.0,0.0], [0.5, np.sqrt(3)/2,0.0],[0.0,0.0,10.0]]  # a1 and a2 vectors\n",
    "\n",
    "# Define orbital positions (Boron at (0,0) and Nitrogen at (1/3, 1/3))\n",
    "orb = [[0.0, 0.0, 0.0], [1/3, 1/3, 0.0]]  # Orbital positions within the unit cell\n",
    "\n",
    "# Create the tight-binding model for 3D system (2D hexagonal lattice in 3D space)\n",
    "model = tb_model(3, 3, lat, orb)\n",
    "delta = 0.0\n",
    "# Set on-site energies for the two orbitals (Boron and Nitrogen)\n",
    "model.set_onsite([-delta, delta])  # ε_B = -1.0, ε_N = 1.0\n",
    "\n",
    "# Set the hopping parameter between Boron and Nitrogen\n",
    "t_BN = 1.0  # Hopping parameter between B and N\n",
    "\n",
    "# Set the hopping terms\n",
    "model.set_hop(t_BN, 0, 1, [0, 0, 0])  # Intra-cell B-N hopping\n",
    "model.set_hop(t_BN, 0, 1, [1, 0, 0])  # B-N hopping in the +a1 direction\n",
    "model.set_hop(t_BN, 0, 1, [0, 1, 0])  # B-N hopping in the +a2 direction\n",
    "model.set_hop(t_BN, 0, 1, [-1, 1, 0]) # B-N hopping in the -a1 + a2 direction\n"
   ]
  },
  {
   "cell_type": "code",
   "execution_count": 2,
   "metadata": {},
   "outputs": [
    {
     "name": "stdout",
     "output_type": "stream",
     "text": [
      "---------------------------------------\n",
      "report of tight-binding model\n",
      "---------------------------------------\n",
      "k-space dimension           = 3\n",
      "r-space dimension           = 3\n",
      "number of spin components   = 1\n",
      "periodic directions         = [0, 1, 2]\n",
      "number of orbitals          = 2\n",
      "number of electronic states = 2\n",
      "lattice vectors:\n",
      " #  0  ===>  [     1.0 ,     0.0 ,     0.0 ]\n",
      " #  1  ===>  [     0.5 ,   0.866 ,     0.0 ]\n",
      " #  2  ===>  [     0.0 ,     0.0 ,    10.0 ]\n",
      "positions of orbitals:\n",
      " #  0  ===>  [  0.3333 ,  0.3333 ,     0.0 ]\n",
      " #  1  ===>  [  0.6667 ,  0.6667 ,     0.0 ]\n",
      "site energies:\n",
      " #  0  ===>      -1.0\n",
      " #  1  ===>       1.0\n",
      "hoppings:\n",
      "<  0 | H |  1 + [  0 ,  0 ,  0 ] >     ===>     -1.0 +     0.0 i\n",
      "<  1 | H |  0 + [  1 ,  0 ,  0 ] >     ===>     -1.0 +     0.0 i\n",
      "<  1 | H |  0 + [  0 ,  1 ,  0 ] >     ===>     -1.0 +     0.0 i\n",
      "hopping distances:\n",
      "|  pos(  0 )  - pos(  1 + [  0 ,  0 ,  0 ] ) |  =    0.5774\n",
      "|  pos(  1 )  - pos(  0 + [  1 ,  0 ,  0 ] ) |  =    0.5774\n",
      "|  pos(  1 )  - pos(  0 + [  0 ,  1 ,  0 ] ) |  =    0.5774\n",
      "\n",
      "----- k_path report begin ----------\n",
      "real-space lattice vectors\n",
      " [[ 1.       0.       0.     ]\n",
      " [ 0.5      0.86603  0.     ]\n",
      " [ 0.       0.      10.     ]]\n",
      "k-space metric tensor\n",
      " [[ 1.33333 -0.66667  0.     ]\n",
      " [-0.66667  1.33333  0.     ]\n",
      " [ 0.       0.       0.01   ]]\n",
      "internal coordinates of nodes\n",
      " [[0.      0.      0.     ]\n",
      " [0.66667 0.33333 0.     ]\n",
      " [0.5     0.5     0.     ]\n",
      " [0.      0.      0.     ]]\n",
      "reciprocal-space lattice vectors\n",
      " [[ 1.      -0.57735  0.     ]\n",
      " [ 0.       1.1547   0.     ]\n",
      " [ 0.       0.       0.1    ]]\n",
      "cartesian coordinates of nodes\n",
      " [[0.00000e+00 0.00000e+00 0.00000e+00]\n",
      " [6.66667e-01 1.56412e-17 0.00000e+00]\n",
      " [5.00000e-01 2.88675e-01 0.00000e+00]\n",
      " [0.00000e+00 0.00000e+00 0.00000e+00]]\n",
      "list of segments:\n",
      "  length = 0.66667  from  [0. 0. 0.]  to  [0.66667 0.33333 0.     ]\n",
      "  length = 0.33333  from  [0.66667 0.33333 0.     ]  to  [0.5 0.5 0. ]\n",
      "  length = 0.57735  from  [0.5 0.5 0. ]  to  [0. 0. 0.]\n",
      "node distance list: [0.      0.66667 1.      1.57735]\n",
      "node index list:    [0 3 4 7]\n",
      "----- k_path report end ------------\n",
      "\n",
      "----- k_path report begin ----------\n",
      "real-space lattice vectors\n",
      " [[ 1.       0.       0.     ]\n",
      " [ 0.5      0.86603  0.     ]\n",
      " [ 0.       0.      10.     ]]\n",
      "k-space metric tensor\n",
      " [[ 1.33333 -0.66667  0.     ]\n",
      " [-0.66667  1.33333  0.     ]\n",
      " [ 0.       0.       0.01   ]]\n",
      "internal coordinates of nodes\n",
      " [[0.      0.      0.     ]\n",
      " [0.66667 0.33333 0.     ]\n",
      " [0.5     0.5     0.     ]\n",
      " [0.      0.      0.     ]]\n",
      "reciprocal-space lattice vectors\n",
      " [[ 1.      -0.57735  0.     ]\n",
      " [ 0.       1.1547   0.     ]\n",
      " [ 0.       0.       0.1    ]]\n",
      "cartesian coordinates of nodes\n",
      " [[0.00000e+00 0.00000e+00 0.00000e+00]\n",
      " [6.66667e-01 1.56412e-17 0.00000e+00]\n",
      " [5.00000e-01 2.88675e-01 0.00000e+00]\n",
      " [0.00000e+00 0.00000e+00 0.00000e+00]]\n",
      "list of segments:\n",
      "  length = 0.66667  from  [0. 0. 0.]  to  [0.66667 0.33333 0.     ]\n",
      "  length = 0.33333  from  [0.66667 0.33333 0.     ]  to  [0.5 0.5 0. ]\n",
      "  length = 0.57735  from  [0.5 0.5 0. ]  to  [0. 0. 0.]\n",
      "node distance list: [0.      0.66667 1.      1.57735]\n",
      "node index list:    [0 3 4 7]\n",
      "----- k_path report end ------------\n",
      "\n",
      "---------------------------------------\n",
      "starting calculation\n",
      "---------------------------------------\n",
      "Calculating bands...\n",
      "Done.\n",
      "\n"
     ]
    },
    {
     "data": {
      "image/png": "[encoded data removed]",
      "text/plain": [
       "<Figure size 640x480 with 1 Axes>"
      ]
     },
     "metadata": {},
     "output_type": "display_data"
    }
   ],
   "source": [
    "#!/usr/bin/env python\n",
    "\n",
    "# Toy graphene model\n",
    "\n",
    "# Copyright under GNU General Public License 2010, 2012, 2016\n",
    "# by Sinisa Coh and David Vanderbilt (see gpl-pythtb.txt)\n",
    "\n",
    "from __future__ import print_function\n",
    "from pythtb import * # import TB model class\n",
    "import numpy as np\n",
    "import matplotlib.pyplot as plt\n",
    "\n",
    "# define lattice vectors\n",
    "lat=[[1.0,0.0,0.0],[0.5,np.sqrt(3.0)/2.0,0.0],[0.0,0.0,10.0]]\n",
    "# define coordinates of orbitals\n",
    "orb=[[1./3.,1./3., 0.0],[2./3.,2./3., 0.0]]\n",
    "\n",
    "# make two dimensional tight-binding graphene model\n",
    "my_model=tb_model(3,3,lat,orb)\n",
    "\n",
    "# set model parameters\n",
    "delta=1.0\n",
    "t=-1.0\n",
    "\n",
    "# set on-site energies\n",
    "my_model.set_onsite([-delta,delta])\n",
    "# set hoppings (one for each connected pair of orbitals)\n",
    "# (amplitude, i, j, [lattice vector to cell containing j])\n",
    "my_model.set_hop(t, 0, 1, [ 0, 0, 0])\n",
    "my_model.set_hop(t, 1, 0, [ 1, 0, 0])\n",
    "my_model.set_hop(t, 1, 0, [ 0, 1, 0])\n",
    "\n",
    "# print tight-binding model\n",
    "my_model.display()\n",
    "\n",
    "# generate list of k-points following a segmented path in the BZ\n",
    "# list of nodes (high-symmetry points) that will be connected\n",
    "path=[[0.,0.,0.],[2./3.,1./3,0.],[.5,.5,0.],[0.,0.,0.]]\n",
    "# labels of the nodes\n",
    "label=(r'$\\Gamma $',r'$K$', r'$M$', r'$\\Gamma $')\n",
    "# total number of interpolated k-points along the path\n",
    "nk=8\n",
    "\n",
    "# call function k_path to construct the actual path\n",
    "(k_vec,k_dist,k_node)=my_model.k_path(path,nk)\n",
    "(q_vec,q_dist,q_node)=my_model.k_path(path,nk)\n",
    "# inputs:\n",
    "#   path, nk: see above\n",
    "#   my_model: the pythtb model\n",
    "# outputs:\n",
    "#   k_vec: list of interpolated k-points\n",
    "#   k_dist: horizontal axis position of each k-point in the list\n",
    "#   k_node: horizontal axis position of each original node\n",
    "\n",
    "print('---------------------------------------')\n",
    "print('starting calculation')\n",
    "print('---------------------------------------')\n",
    "print('Calculating bands...')\n",
    "\n",
    "# obtain eigenvalues to be plotted\n",
    "evals=my_model.solve_all(k_vec)\n",
    "\n",
    "# figure for bandstructure\n",
    "\n",
    "fig, ax = plt.subplots()\n",
    "# specify horizontal axis details\n",
    "# set range of horizontal axis\n",
    "ax.set_xlim(k_node[0],k_node[-1])\n",
    "# put tickmarks and labels at node positions\n",
    "ax.set_xticks(k_node)\n",
    "ax.set_xticklabels(label)\n",
    "# add vertical lines at node positions\n",
    "for n in range(len(k_node)):\n",
    "  ax.axvline(x=k_node[n],linewidth=0.5, color='k')\n",
    "# put title\n",
    "ax.set_title(\"Graphene band structure\")\n",
    "ax.set_xlabel(\"Path in k-space\")\n",
    "ax.set_ylabel(\"Band energy\")\n",
    "\n",
    "# plot first and second band\n",
    "ax.plot(k_dist,evals[0])\n",
    "ax.plot(k_dist,evals[1])\n",
    "\n",
    "# make an PDF figure of a plot\n",
    "fig.tight_layout()\n",
    "#fig.savefig(\"graphene.pdf\")\n",
    "\n",
    "print('Done.\\n')"
   ]
  },
  {
   "cell_type": "code",
   "execution_count": 3,
   "metadata": {},
   "outputs": [],
   "source": [
    "class tmp_lat():\n",
    "    def __init__(self,lat):\n",
    "        self.lat = np.array(lat)\n",
    "        self.lat_vol = np.abs(np.dot(self.lat[2],np.cross(self.lat[0],self.lat[1])))\n",
    "        self.rec_lat = self._rec_lat()\n",
    "        self.rlat_vol = np.abs(np.dot(self.rec_lat[2],np.cross(self.rec_lat[0],self.rec_lat[1])))\n",
    "    \n",
    "    def _rec_lat(self):\n",
    "        b1 = 2 * np.pi * np.cross(self.lat[1], self.lat[2]) / self.lat_vol\n",
    "        b2 = 2 * np.pi * np.cross(self.lat[2], self.lat[0]) / self.lat_vol\n",
    "        b3 = 2 * np.pi * np.cross(self.lat[0], self.lat[1]) / self.lat_vol\n",
    "\n",
    "        # Combine the reciprocal lattice vectors into a matrix\n",
    "        B = np.array([b1, b2, b3])        \n",
    "        return B"
   ]
  },
  {
   "cell_type": "code",
   "execution_count": 4,
   "metadata": {},
   "outputs": [],
   "source": [
    "c_lat = tmp_lat(lat)"
   ]
  },
  {
   "cell_type": "code",
   "execution_count": 5,
   "metadata": {},
   "outputs": [],
   "source": [
    "from yambopy import *\n",
    "nnkp_kgrid = mp_grid(nx = 4 , ny = 4 , nz = 1, latdb=c_lat)\n",
    "nnkp_qgrid = mp_grid (nx = 2 , ny = 2, nz = 1, latdb=c_lat )"
   ]
  },
  {
   "cell_type": "code",
   "execution_count": 6,
   "metadata": {},
   "outputs": [],
   "source": [
    "qlist = k_list(q_vec, c_lat)"
   ]
  },
  {
   "cell_type": "code",
   "execution_count": 7,
   "metadata": {},
   "outputs": [],
   "source": [
    "# we need a temporary model class to call H2P without initializing wann_model\n",
    "class mytb_model():\n",
    "    def __init__(self, pythtb_model, nc, nv, nnkp_kgrid, eigv, eigvec):\n",
    "        self.nk = nnkp_kgrid.k.shape[0]\n",
    "        self.mpgrid = nnkp_kgrid\n",
    "        self.nb = eigv.shape[1]\n",
    "        self.nc = nc \n",
    "        self.nv = nv\n",
    "        self.eigv = eigv\n",
    "        self.eigvec = eigvec\n",
    "        self._get_T_table()\n",
    "        self.pythtb_model = pythtb_model\n",
    "\n",
    "    def _get_T_table(self):\n",
    "        ntransitions = self.nk*self.nc*self.nv\n",
    "        T_table = np.zeros((ntransitions, 3),dtype=int)\n",
    "        t_index = 0\n",
    "        for ik in range(0,self.nk):\n",
    "            for iv in range(0,self.nv):\n",
    "                for ic in range(0,self.nc):\n",
    "                        T_table[t_index] = [ik, iv, self.nv+ic]\n",
    "                        t_index += 1\n",
    "        self.ntransitions = ntransitions\n",
    "        self.T_table = T_table"
   ]
  },
  {
   "cell_type": "code",
   "execution_count": 8,
   "metadata": {},
   "outputs": [],
   "source": [
    "# get eigenvalues and eigenvectors from pythtb\n",
    "eigv, eigvec = my_model.solve_all(nnkp_kgrid.k, eig_vectors=True)"
   ]
  },
  {
   "cell_type": "code",
   "execution_count": 9,
   "metadata": {},
   "outputs": [],
   "source": [
    "# swap axes to match conventions from our yambopy-wannier library\n",
    "eigv = my_model.solve_all(nnkp_kgrid.k).swapaxes(0,1)\n",
    "eigvec = eigvec.transpose(1, 2, 0)"
   ]
  },
  {
   "cell_type": "code",
   "execution_count": 10,
   "metadata": {},
   "outputs": [],
   "source": [
    "# Initialize H2P with this model\n",
    "model = mytb_model(pythtb_model = my_model, nc=1, nv=1, nnkp_kgrid = nnkp_kgrid, eigv = eigv, eigvec = eigvec)"
   ]
  },
  {
   "cell_type": "code",
   "execution_count": 11,
   "metadata": {},
   "outputs": [
    {
     "name": "stdout",
     "output_type": "stream",
     "text": [
      "Warning! CoulombPotentials works with atomic units and return energy in eV \n",
      "\n",
      "                Check consistency of units in the methods, they have not been properly tested\n",
      "              \n"
     ]
    }
   ],
   "source": [
    "cpot = CoulombPotentials(v0=0.03,ngrid=[4,4,4], lattice=c_lat, ediel=[1.0,10.0,1.0])"
   ]
  },
  {
   "cell_type": "code",
   "execution_count": 12,
   "metadata": {},
   "outputs": [
    {
     "data": {
      "text/plain": [
       "(1+0j)"
      ]
     },
     "execution_count": 12,
     "metadata": {},
     "output_type": "execute_result"
    }
   ],
   "source": [
    "1+0j"
   ]
  },
  {
   "cell_type": "code",
   "execution_count": 12,
   "metadata": {},
   "outputs": [
    {
     "name": "stdout",
     "output_type": "stream",
     "text": [
      "\n",
      " Building H2P from model Coulomb potentials. Default is v2dt2\n",
      "\n",
      "computing bse bands \n"
     ]
    }
   ],
   "source": [
    "# we can call this only with \n",
    "h2p_tmp = H2P(model, qmpgrid = nnkp_qgrid, method = 'model', cpot = cpot,bse_bands=True, qlist=qlist)"
   ]
  },
  {
   "cell_type": "code",
   "execution_count": 13,
   "metadata": {},
   "outputs": [
    {
     "name": "stdout",
     "output_type": "stream",
     "text": [
      "Setting number of qpoints equal to number of q points in the list\n",
      "\n",
      "Diagonalizing the H2P matrix with dimensions: 16 for q-point: 0\n",
      "\n",
      "\n",
      "Diagonalizing the H2P matrix with dimensions: 16 for q-point: 1\n",
      "\n",
      "\n",
      "Diagonalizing the H2P matrix with dimensions: 16 for q-point: 2\n",
      "\n",
      "\n",
      "Diagonalizing the H2P matrix with dimensions: 16 for q-point: 3\n",
      "\n",
      "\n",
      "Diagonalizing the H2P matrix with dimensions: 16 for q-point: 4\n",
      "\n",
      "\n",
      "Diagonalizing the H2P matrix with dimensions: 16 for q-point: 5\n",
      "\n",
      "\n",
      "Diagonalizing the H2P matrix with dimensions: 16 for q-point: 6\n",
      "\n",
      "\n",
      "Diagonalizing the H2P matrix with dimensions: 16 for q-point: 7\n",
      "\n",
      "\n",
      " Diagonalization of H2P in 0.000 s\n"
     ]
    }
   ],
   "source": [
    "h2p_tmp.solve_H2P()"
   ]
  },
  {
   "cell_type": "code",
   "execution_count": 14,
   "metadata": {},
   "outputs": [
    {
     "data": {
      "text/plain": [
       "array([[2.64370282+0.j, 2.73822999+0.j, 2.76773465+0.j, 2.81612229+0.j,\n",
       "        2.81853828+0.j, 2.87120017+0.j, 2.89214642+0.j, 2.92905242+0.j,\n",
       "        2.93445526+0.j, 4.62338873+0.j, 4.8657451 +0.j, 4.86847619+0.j,\n",
       "        5.00145185+0.j, 5.00196696+0.j, 5.04687027+0.j, 6.35519494+0.j],\n",
       "       [2.48247516+0.j, 2.53336574+0.j, 2.73911047+0.j, 2.82529391+0.j,\n",
       "        3.1302215 +0.j, 3.19285239+0.j, 3.35139063+0.j, 3.3724695 +0.j,\n",
       "        3.84038897+0.j, 3.93046355+0.j, 4.04747901+0.j, 4.52278679+0.j,\n",
       "        4.56800539+0.j, 5.33803378+0.j, 5.51380184+0.j, 5.92731155+0.j],\n",
       "       [2.61293316+0.j, 2.81595623+0.j, 2.91831257+0.j, 2.95769915+0.j,\n",
       "        3.51557049+0.j, 3.66599563+0.j, 3.72653022+0.j, 3.83181308+0.j,\n",
       "        3.83790558+0.j, 3.84928573+0.j, 3.9291045 +0.j, 3.96175981+0.j,\n",
       "        4.52891342+0.j, 4.82877492+0.j, 5.0997639 +0.j, 5.19442541+0.j],\n",
       "       [2.61600534+0.j, 2.6413008 +0.j, 2.68193442+0.j, 3.60692339+0.j,\n",
       "        3.64144415+0.j, 3.65399555+0.j, 3.82256675+0.j, 4.11221649+0.j,\n",
       "        4.13948069+0.j, 4.26549841+0.j, 4.2702301 +0.j, 4.28258101+0.j,\n",
       "        4.32622814+0.j, 4.33165985+0.j, 4.38709066+0.j, 4.39440261+0.j],\n",
       "       [2.75624203+0.j, 2.78682973+0.j, 2.86809285+0.j, 2.86894088+0.j,\n",
       "        3.64350186+0.j, 3.81480072+0.j, 3.85975176+0.j, 3.87098469+0.j,\n",
       "        3.89521545+0.j, 3.90327652+0.j, 3.96560801+0.j, 3.97970038+0.j,\n",
       "        4.57236342+0.j, 4.59796984+0.j, 4.92325724+0.j, 4.94582251+0.j],\n",
       "       [2.76106914+0.j, 2.78818106+0.j, 2.8612198 +0.j, 2.87496797+0.j,\n",
       "        3.23611331+0.j, 3.26421102+0.j, 3.56985668+0.j, 3.61098433+0.j,\n",
       "        3.93348364+0.j, 4.03502384+0.j, 4.06260884+0.j, 4.27382802+0.j,\n",
       "        4.59456241+0.j, 4.66933079+0.j, 5.19087358+0.j, 5.5677969 +0.j],\n",
       "       [2.53698562+0.j, 2.6064387 +0.j, 2.77295792+0.j, 2.7754103 +0.j,\n",
       "        2.89194468+0.j, 2.89473636+0.j, 3.4023845 +0.j, 3.59787333+0.j,\n",
       "        3.62117007+0.j, 3.97941303+0.j, 4.28610509+0.j, 4.28737468+0.j,\n",
       "        5.00518705+0.j, 5.08762849+0.j, 5.55769485+0.j, 6.02988484+0.j],\n",
       "       [2.64370282+0.j, 2.73822999+0.j, 2.76773465+0.j, 2.81612229+0.j,\n",
       "        2.81853828+0.j, 2.87120017+0.j, 2.89214642+0.j, 2.92905242+0.j,\n",
       "        2.93445526+0.j, 4.62338873+0.j, 4.8657451 +0.j, 4.86847619+0.j,\n",
       "        5.00145185+0.j, 5.00196696+0.j, 5.04687027+0.j, 6.35519494+0.j]])"
      ]
     },
     "execution_count": 14,
     "metadata": {},
     "output_type": "execute_result"
    }
   ],
   "source": [
    "h2p_tmp.h2peigv"
   ]
  },
  {
   "cell_type": "code",
   "execution_count": null,
   "metadata": {},
   "outputs": [],
   "source": []
  },
  {
   "cell_type": "code",
   "execution_count": 16,
   "metadata": {},
   "outputs": [
    {
     "name": "stdout",
     "output_type": "stream",
     "text": [
      "/Users/Reho0001/workQE/Projects/mlxwf\n"
     ]
    }
   ],
   "source": [
    "!pwd"
   ]
  },
  {
   "cell_type": "markdown",
   "metadata": {},
   "source": [
    "# Visualize the grid and neighbours"
   ]
  },
  {
   "cell_type": "code",
   "execution_count": 26,
   "metadata": {},
   "outputs": [
    {
     "data": {
      "image/png": "[encoded data removed]",
      "text/plain": [
       "<Figure size 640x480 with 1 Axes>"
      ]
     },
     "metadata": {},
     "output_type": "display_data"
    }
   ],
   "source": [
    "nnkp_kgrid = mp_grid(nx = 4 , ny = 4 , nz = 1, latdb=c_lat,shift=[0.4,0.0,0.0])\n",
    "fig,ax = plt.subplots()\n",
    "neigh = nnkp_kgrid.fold_into_bz(nnkp_kgrid.b_grid)\n",
    "for ik,k in enumerate(nnkp_kgrid.k):\n",
    "    ax.scatter(k[0], k[1], s = 20, c='blue')\n",
    "    for j in range(0,8):\n",
    "        ax.scatter(neigh[8*ik+j,0],neigh[8*ik+j,1], s=50,c = 'red')"
   ]
  },
  {
   "cell_type": "code",
   "execution_count": 28,
   "metadata": {},
   "outputs": [
    {
     "data": {
      "text/plain": [
       "array([[-0.1 , -0.5 , -0.5 ],\n",
       "       [-0.1 , -0.25, -0.5 ],\n",
       "       [-0.1 ,  0.  , -0.5 ],\n",
       "       [-0.1 ,  0.25, -0.5 ],\n",
       "       [ 0.15, -0.5 , -0.5 ],\n",
       "       [ 0.15, -0.25, -0.5 ],\n",
       "       [ 0.15,  0.  , -0.5 ],\n",
       "       [ 0.15,  0.25, -0.5 ],\n",
       "       [ 0.4 , -0.5 , -0.5 ],\n",
       "       [ 0.4 , -0.25, -0.5 ],\n",
       "       [ 0.4 ,  0.  , -0.5 ],\n",
       "       [ 0.4 ,  0.25, -0.5 ],\n",
       "       [-0.35, -0.5 , -0.5 ],\n",
       "       [-0.35, -0.25, -0.5 ],\n",
       "       [-0.35,  0.  , -0.5 ],\n",
       "       [-0.35,  0.25, -0.5 ]])"
      ]
     },
     "execution_count": 28,
     "metadata": {},
     "output_type": "execute_result"
    }
   ],
   "source": [
    "nnkp_kgrid.k"
   ]
  },
  {
   "cell_type": "markdown",
   "metadata": {},
   "source": [
    "# Build H2P and compute exciton band structure"
   ]
  },
  {
   "cell_type": "markdown",
   "metadata": {},
   "source": []
  }
 ],
 "metadata": {
  "kernelspec": {
   "display_name": "tbmodels",
   "language": "python",
   "name": "python3"
  },
  "language_info": {
   "codemirror_mode": {
    "name": "ipython",
    "version": 3
   },
   "file_extension": ".py",
   "mimetype": "text/x-python",
   "name": "python",
   "nbconvert_exporter": "python",
   "pygments_lexer": "ipython3",
   "version": "3.11.6"
  }
 },
 "nbformat": 4,
 "nbformat_minor": 2
}
